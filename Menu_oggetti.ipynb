{
 "cells": [
  {
   "cell_type": "code",
   "execution_count": null,
   "metadata": {},
   "outputs": [],
   "source": [
    "class Ordinazione_Cliente():\n",
    "    nome_ordinatore = ''\n",
    "    piatti_ordinati = {}\n",
    "    #piatti_ordinati = [pl1,pl2,pl3,pl4]\n",
    "    spesa_totale = 0\n",
    "\n",
    "\n",
    "menu_piatti = ['pasta', 'carne', 'pesce', 'dolce']\n",
    "menu_prezzi = [20,25,30,10]\n",
    "\n",
    "\n",
    "flag= True\n",
    "\n",
    "while flag==True:\n",
    "  scelta =input('(1) ordina, modifica, conto (2) esci')\n",
    "\n",
    "  \n",
    "  # SCELTA 1: il cliente inserisce un nuovo piatto\n",
    "  if scelta =='1':  \n",
    "\n",
    "    nome_cliente = input('inserisci nome cliente:')\n",
    "    Ordinazione_Cliente.nome_cliente()\n",
    "    nome_cliente.nome_ordinatore= nome_cliente\n",
    "\n",
    "    piatto = int(input('inserisci piatto: (0)pasta (1)carne (2)pesce (3)dolce'))\n",
    "    Ordinazione_Cliente.piatti_ordinati[menu_piatti[piatto]]=menu_prezzi[piatto]\n",
    "\n",
    "    \n",
    "\n",
    "\n",
    "\n",
    "  # SCELTA 2: esci\n",
    "  elif scelta == 2:\n",
    "    flag=False\n",
    "\n",
    "  # SCELTA 2: eliminazione di un piatto dal menu\n",
    "  2\n",
    "\n",
    "\n",
    "\n",
    "\n",
    "  \n"
   ]
  }
 ],
 "metadata": {
  "kernelspec": {
   "display_name": "base",
   "language": "python",
   "name": "python3"
  },
  "language_info": {
   "name": "python",
   "version": "3.9.13"
  },
  "orig_nbformat": 4
 },
 "nbformat": 4,
 "nbformat_minor": 2
}
