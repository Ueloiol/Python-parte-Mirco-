{
  "nbformat": 4,
  "nbformat_minor": 0,
  "metadata": {
    "colab": {
      "provenance": []
    },
    "kernelspec": {
      "name": "python3",
      "display_name": "Python 3"
    },
    "language_info": {
      "name": "python"
    }
  },
  "cells": [
    {
      "cell_type": "code",
      "execution_count": null,
      "metadata": {
        "id": "i6KfRGqgF8qC"
      },
      "outputs": [],
      "source": [
        "#10- Creare un menu ad iserimento che permetta in loop di inserire \n",
        "#    un nome e una password e che dopo li verifichi scrivendo \"loggato!\" \n",
        "\n",
        "\"\"\"\n",
        "flag= True\n",
        "\n",
        "while flag == True:\n",
        "  x=int(input('scegli cosa fare: 1. esci 2. entra'))\n",
        "  if x==1:\n",
        "    flag=False\n",
        "  elif x==2:\n",
        "    y=int(input('scegli cosa fare: 3. registrati 4. login'))\n",
        "    if y==3:\n",
        "        user_registrazione=input('registrati inserendo il nome utente')\n",
        "        password_registrazione= input('registrati inserendo la password')\n",
        "        print('congratulazioni ti sei registrato')\n",
        "    elif y==4:\n",
        "        user_login=input('accedi inserendo il nome utente')\n",
        "        password_login= input('accedi inserendo la password')\n",
        "        if user_registrazione == user_login and password_registrazione == password_login :\n",
        "          print('congratulazioni hai effettuato il login con successo')\n",
        "    else:\n",
        "        flag=False\n",
        "\n",
        "\"\"\""
      ]
    },
    {
      "cell_type": "code",
      "source": [
        "#11 \n",
        "\n",
        "\n",
        "class Utente:\n",
        "    def __init__(self, User, Pass):     # costruttore \n",
        "        self.Username = User\n",
        "        self.Password = Pass\n",
        "    \n",
        "   # def stampatore(self):\n",
        "      #print(self.Username)\n",
        "      #print(self.Password)\n",
        "\n",
        "class Ferie(Utente):\n",
        "    def __init__(self, User, Pass, spesa, tempo, vista):     # costruttore \n",
        "        super().__init__(User, Pass)\n",
        "        self.spesa = spesa\n",
        "        self.tempo = tempo\n",
        "        self.vista = vista\n",
        "\n",
        "    def stampatore_ferie(self):\n",
        "        print('nome utente:',self.Username)\n",
        "        print('password:',self.Password)\n",
        "        print('spesa totale:', self.spesa)\n",
        "        print('tempo soggiorno:',self.tempo)\n",
        "        print('vista mare:',self.vista)  \n",
        "\n",
        "\n",
        "# inserisco utente\n",
        "utente_1= Utente('giacomo', '123stella')\n",
        "\n",
        "#inserisco tipo ferie\n",
        "Ferie_utente_1= Ferie('giacomo', '123stella', 15000, '7 giorni', True)\n",
        "\n",
        "# stampo il tipo di vacanza dell'utente\n",
        "Ferie_utente_1.stampatore_ferie()\n"
      ],
      "metadata": {
        "colab": {
          "base_uri": "https://localhost:8080/"
        },
        "id": "Aj1pXxTLJRGX",
        "outputId": "7397545c-fc62-41e1-d18b-7940beb4674b"
      },
      "execution_count": 25,
      "outputs": [
        {
          "output_type": "stream",
          "name": "stdout",
          "text": [
            "nome utente: giacomo\n",
            "password: 123stella\n",
            "spesa totale: 15000\n",
            "tempo soggiorno: 7 giorni\n",
            "vista mare: True\n"
          ]
        }
      ]
    },
    {
      "cell_type": "code",
      "source": [],
      "metadata": {
        "id": "HFnkYSwNOmLk"
      },
      "execution_count": null,
      "outputs": []
    }
  ]
}