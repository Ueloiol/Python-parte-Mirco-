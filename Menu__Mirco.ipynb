{
  "nbformat": 4,
  "nbformat_minor": 0,
  "metadata": {
    "colab": {
      "provenance": []
    },
    "kernelspec": {
      "name": "python3",
      "display_name": "Python 3"
    },
    "language_info": {
      "name": "python"
    }
  },
  "cells": [
    {
      "cell_type": "code",
      "execution_count": 7,
      "metadata": {
        "colab": {
          "base_uri": "https://localhost:8080/",
          "height": 390
        },
        "id": "Xil1YFNEr7O3",
        "outputId": "d7a1f98b-27e4-4f92-ed28-d68c700af14b"
      },
      "outputs": [
        {
          "output_type": "error",
          "ename": "KeyboardInterrupt",
          "evalue": "ignored",
          "traceback": [
            "\u001b[0;31m---------------------------------------------------------------------------\u001b[0m",
            "\u001b[0;31mKeyboardInterrupt\u001b[0m                         Traceback (most recent call last)",
            "\u001b[0;32m<ipython-input-7-9d82c6b7f12b>\u001b[0m in \u001b[0;36m<cell line: 17>\u001b[0;34m()\u001b[0m\n\u001b[1;32m     16\u001b[0m \u001b[0;34m\u001b[0m\u001b[0m\n\u001b[1;32m     17\u001b[0m \u001b[0;32mwhile\u001b[0m \u001b[0mflag\u001b[0m\u001b[0;34m==\u001b[0m\u001b[0;32mTrue\u001b[0m\u001b[0;34m:\u001b[0m\u001b[0;34m\u001b[0m\u001b[0;34m\u001b[0m\u001b[0m\n\u001b[0;32m---> 18\u001b[0;31m     \u001b[0mscelta\u001b[0m \u001b[0;34m=\u001b[0m\u001b[0mint\u001b[0m\u001b[0;34m(\u001b[0m\u001b[0minput\u001b[0m\u001b[0;34m(\u001b[0m\u001b[0;34m'(1) Ordina (2) esci'\u001b[0m\u001b[0;34m)\u001b[0m\u001b[0;34m)\u001b[0m\u001b[0;34m\u001b[0m\u001b[0;34m\u001b[0m\u001b[0m\n\u001b[0m\u001b[1;32m     19\u001b[0m \u001b[0;34m\u001b[0m\u001b[0m\n\u001b[1;32m     20\u001b[0m \u001b[0;31m### SCELTA 1: il cliente inserisce un nuovo piatto\u001b[0m\u001b[0;34m\u001b[0m\u001b[0;34m\u001b[0m\u001b[0m\n",
            "\u001b[0;32m/usr/local/lib/python3.10/dist-packages/ipykernel/kernelbase.py\u001b[0m in \u001b[0;36mraw_input\u001b[0;34m(self, prompt)\u001b[0m\n\u001b[1;32m    849\u001b[0m                 \u001b[0;34m\"raw_input was called, but this frontend does not support input requests.\"\u001b[0m\u001b[0;34m\u001b[0m\u001b[0;34m\u001b[0m\u001b[0m\n\u001b[1;32m    850\u001b[0m             )\n\u001b[0;32m--> 851\u001b[0;31m         return self._input_request(str(prompt),\n\u001b[0m\u001b[1;32m    852\u001b[0m             \u001b[0mself\u001b[0m\u001b[0;34m.\u001b[0m\u001b[0m_parent_ident\u001b[0m\u001b[0;34m,\u001b[0m\u001b[0;34m\u001b[0m\u001b[0;34m\u001b[0m\u001b[0m\n\u001b[1;32m    853\u001b[0m             \u001b[0mself\u001b[0m\u001b[0;34m.\u001b[0m\u001b[0m_parent_header\u001b[0m\u001b[0;34m,\u001b[0m\u001b[0;34m\u001b[0m\u001b[0;34m\u001b[0m\u001b[0m\n",
            "\u001b[0;32m/usr/local/lib/python3.10/dist-packages/ipykernel/kernelbase.py\u001b[0m in \u001b[0;36m_input_request\u001b[0;34m(self, prompt, ident, parent, password)\u001b[0m\n\u001b[1;32m    893\u001b[0m             \u001b[0;32mexcept\u001b[0m \u001b[0mKeyboardInterrupt\u001b[0m\u001b[0;34m:\u001b[0m\u001b[0;34m\u001b[0m\u001b[0;34m\u001b[0m\u001b[0m\n\u001b[1;32m    894\u001b[0m                 \u001b[0;31m# re-raise KeyboardInterrupt, to truncate traceback\u001b[0m\u001b[0;34m\u001b[0m\u001b[0;34m\u001b[0m\u001b[0m\n\u001b[0;32m--> 895\u001b[0;31m                 \u001b[0;32mraise\u001b[0m \u001b[0mKeyboardInterrupt\u001b[0m\u001b[0;34m(\u001b[0m\u001b[0;34m\"Interrupted by user\"\u001b[0m\u001b[0;34m)\u001b[0m \u001b[0;32mfrom\u001b[0m \u001b[0;32mNone\u001b[0m\u001b[0;34m\u001b[0m\u001b[0;34m\u001b[0m\u001b[0m\n\u001b[0m\u001b[1;32m    896\u001b[0m             \u001b[0;32mexcept\u001b[0m \u001b[0mException\u001b[0m \u001b[0;32mas\u001b[0m \u001b[0me\u001b[0m\u001b[0;34m:\u001b[0m\u001b[0;34m\u001b[0m\u001b[0;34m\u001b[0m\u001b[0m\n\u001b[1;32m    897\u001b[0m                 \u001b[0mself\u001b[0m\u001b[0;34m.\u001b[0m\u001b[0mlog\u001b[0m\u001b[0;34m.\u001b[0m\u001b[0mwarning\u001b[0m\u001b[0;34m(\u001b[0m\u001b[0;34m\"Invalid Message:\"\u001b[0m\u001b[0;34m,\u001b[0m \u001b[0mexc_info\u001b[0m\u001b[0;34m=\u001b[0m\u001b[0;32mTrue\u001b[0m\u001b[0;34m)\u001b[0m\u001b[0;34m\u001b[0m\u001b[0;34m\u001b[0m\u001b[0m\n",
            "\u001b[0;31mKeyboardInterrupt\u001b[0m: Interrupted by user"
          ]
        }
      ],
      "source": [
        "class Ordinazione_Cliente():\n",
        "    nome_ordinatore = ''\n",
        "    piatti_ordinati = {}\n",
        "    spesa_totale = 0\n",
        "\n",
        "Ordinazione_1=Ordinazione_Cliente()\n",
        "\n",
        "menu_piatti = ['pasta', 'carne', 'pesce', 'dolce']\n",
        "menu_prezzi = [20,25,30,10]\n",
        "\n",
        "flag= True\n",
        "\n",
        "\n",
        "\n",
        "\n",
        "\n",
        "while flag==True: \n",
        "    scelta =int(input('(1) Ordina (2) esci'))\n",
        "\n",
        "### SCELTA 1: il cliente inserisce un nuovo piatto\n",
        "    if scelta ==1:      \n",
        "        flag_2 = True\n",
        "\n",
        "    #### (1) WHILE per tornare al menu iniziale (vedi input successivo)\n",
        "        while flag_2==True:\n",
        "\n",
        "            operazione=int(input('cosa vuoi fare? (1) menu iniziale (2) aggiungi ordine (3) elimina ordine (4) conto '))\n",
        "\n",
        "       #### (1) TORNA AL MENU INIZIALE\n",
        "            if operazione == 1:\n",
        "                flag_2= False\n",
        "\n",
        "       #### (2) AGGIUNGI ORDINE\n",
        "            elif operazione ==2:\n",
        "                nome = input('inserisci nome cliente:')\n",
        "                Ordinazione_1.nome_ordinatore=nome\n",
        "                \n",
        "                piatto = int(input('inserisci piatto: (0)pasta (1)carne (2)pesce (3)dolce'))\n",
        "                Ordinazione_1.piatti_ordinati[menu_piatti[piatto]]=menu_prezzi[piatto]\n",
        "\n",
        "       #### (3) ELIMINA ORDINE\n",
        "            elif operazione == 3:\n",
        "                eliminare=int(input('inserisci il piatto da eliminare: (0)pasta (1)carne (2)pesce (3)dolce'))\n",
        "                del Ordinazione_1.piatti_ordinati[menu_piatti[eliminare]]\n",
        "\n",
        "       #### (4) STAMPA IL CONTO\n",
        "            elif operazione == 4:\n",
        "              print('Per l utente', Ordinazione_1.nome_ordinatore)\n",
        "              conto=0\n",
        "\n",
        "              for key in Ordinazione_1.piatti_ordinati:\n",
        "                conto = conto + Ordinazione_1.piatti_ordinati[key]\n",
        "              print('il conto è',conto)\n",
        "\n",
        "### SCELTA 2: esci\n",
        "    elif scelta == 2:\n",
        "        flag=False"
      ]
    }
  ]
}