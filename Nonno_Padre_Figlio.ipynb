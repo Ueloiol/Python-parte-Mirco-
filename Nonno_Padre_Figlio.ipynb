{
  "nbformat": 4,
  "nbformat_minor": 0,
  "metadata": {
    "colab": {
      "provenance": []
    },
    "kernelspec": {
      "name": "python3",
      "display_name": "Python 3"
    },
    "language_info": {
      "name": "python"
    }
  },
  "cells": [
    {
      "cell_type": "code",
      "execution_count": 11,
      "metadata": {
        "colab": {
          "base_uri": "https://localhost:8080/"
        },
        "id": "x13AZVxe99js",
        "outputId": "2e69d88a-1aea-49e7-b368-a0ed63d4b538"
      },
      "outputs": [
        {
          "output_type": "stream",
          "name": "stdout",
          "text": [
            " ciao sono Giovanni gen_1 \n",
            "78\n",
            " ciao sono Marius gen_2 Primo grado\n",
            "50\n",
            " ciao sono Francesco gen_3 Secondo grado\n",
            "15\n",
            "Basket\n"
          ]
        }
      ],
      "source": [
        "class Nonno:\n",
        "   \n",
        "    tipo = \"gen_1\"                     # attributi \n",
        "\n",
        "    def __init__(self, Nome, Eta):     # costruttore \n",
        "        self.Nome = Nome\n",
        "        self.Eta = Eta\n",
        "    \n",
        "    def MasterD(self):                 # Metodo della classe\n",
        "        print( \" ciao sono \" + self.Nome + \" \" + self.tipo + \" \")\n",
        "        print(self.Eta)\n",
        "\n",
        "X= Nonno(\"Giovanni\", 78)\n",
        "X.MasterD()\n",
        "\n",
        "\n",
        "class Padre(Nonno):\n",
        "\n",
        "    def __init__(self, Nome, Eta, grado):\n",
        "        super().__init__(Nome, Eta)\n",
        "        self.grado = grado\n",
        "    \n",
        "    tipo = \"gen_2\"\n",
        "    \n",
        "    def MasterD(self):                 # Metodo della classe\n",
        "        print( \" ciao sono \" + self.Nome + \" \" + self.tipo + \" \" + self.grado)\n",
        "        print(self.Eta)\n",
        "\n",
        "\n",
        "Y = Padre(\"Marius\", 50, \"Primo grado\")\n",
        "Y.MasterD()\n",
        "\n",
        "\n",
        "class Figlio(Padre):\n",
        "\n",
        "    def __init__(self, Nome, Eta, grado,sport):\n",
        "        super().__init__(Nome, Eta, grado)\n",
        "        self.sport = sport\n",
        "    \n",
        "    tipo = \"gen_3\"\n",
        "    \n",
        "    def MasterD(self):                 # Metodo della classe\n",
        "        print( \" ciao sono \" + self.Nome + \" \" + self.tipo + \" \" + self.grado)\n",
        "        print(self.Eta)\n",
        "        print(self.sport)\n",
        "\n",
        "Z= Figlio(\"Francesco\", 15, \"Secondo grado\", \"Basket\")\n",
        "Z.MasterD()\n",
        "\n",
        "\n"
      ]
    }
  ]
}