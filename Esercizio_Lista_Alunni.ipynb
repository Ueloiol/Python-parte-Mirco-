{
  "nbformat": 4,
  "nbformat_minor": 0,
  "metadata": {
    "colab": {
      "provenance": []
    },
    "kernelspec": {
      "name": "python3",
      "display_name": "Python 3"
    },
    "language_info": {
      "name": "python"
    }
  },
  "cells": [
    {
      "cell_type": "code",
      "execution_count": 43,
      "metadata": {
        "colab": {
          "base_uri": "https://localhost:8080/",
          "height": 134
        },
        "id": "svtJwxrhECYJ",
        "outputId": "ea4cfd7f-440d-48f2-b938-a013ef6e8efe"
      },
      "outputs": [
        {
          "output_type": "error",
          "ename": "IndentationError",
          "evalue": "ignored",
          "traceback": [
            "\u001b[0;36m  File \u001b[0;32m\"<tokenize>\"\u001b[0;36m, line \u001b[0;32m8\u001b[0m\n\u001b[0;31m    def InserimentoAlunni(self):\u001b[0m\n\u001b[0m    ^\u001b[0m\n\u001b[0;31mIndentationError\u001b[0m\u001b[0;31m:\u001b[0m unindent does not match any outer indentation level\n"
          ]
        }
      ],
      "source": [
        "class ListaAlunni:\n",
        "\n",
        "        alunni= []\n",
        "\n",
        "        voti= []\n",
        "\n",
        "\n",
        "    def InserimentoAlunni(self):\n",
        "        x=input('inserisci nomi alunni (separati da virgola e spazio)')\n",
        "        alunni= x.split(', ')\n",
        "        return alunni\n",
        "\n",
        "    def InserimentoVoti(self):\n",
        "        x=input('inserisci i relativi voti (separati da virgola e spazio)')\n",
        "        voti_inizio= x.split(', ')\n",
        "        voti_fine = [0]*len(voti)\n",
        "        for i in range(len(voti_inizio)):\n",
        "          voti_fine[i]=int(voti_inizio[i])\n",
        "        return voti_fine\n",
        "\n",
        "prova = ListaAlunni()\n",
        "\n",
        "prova.InserimentoAlunni()\n",
        "\n",
        "prova.InserimentoVoti()\n",
        "  \n",
        "print(ListaAlunni.)\n",
        "\n",
        "\n",
        "\n"
      ]
    },
    {
      "cell_type": "code",
      "source": [
        "class ListaAlunni:\n",
        "\n",
        "    alunni = []\n",
        "\n",
        "    voti = []\n",
        "\n",
        "    def InserimentoAlunni(self):\n",
        "        x=input('inserisci nomi alunni (separati da virgola e spazio)')\n",
        "        self.alunni= x.split(', ')\n",
        "\n",
        "    def InserimentoVoti(self):\n",
        "        x=input('inserisci i relativi voti (separati da virgola e spazio)')\n",
        "        voti_inizio= x.split(', ')\n",
        "        voti_fine = [0]*len(voti_inizio)\n",
        "        for i in range(len(voti_inizio)):\n",
        "          voti_fine[i]=int(voti_inizio[i])\n",
        "        self.voti=voti_fine\n",
        "        \n",
        "\n",
        "\n",
        "\n",
        "class Alunno(ListaAlunni):\n",
        "\n",
        "      nome = super().alunni[0]\n",
        "      voto = super().voti[0]\n",
        "\n",
        "\n",
        "\n",
        "\n",
        "\n",
        "\n",
        "#Prova = ListaAlunni()\n",
        "\n",
        "#Prova.InserimentoAlunni()\n",
        "\n",
        "#Prova.InserimentoVoti()\n",
        "\n",
        "#x= Prova.alunni\n",
        "#y= Prova.voti\n",
        "\n",
        "#print(x, y)\n",
        "\n",
        "Francesco = Alunno()"
      ],
      "metadata": {
        "colab": {
          "base_uri": "https://localhost:8080/",
          "height": 367
        },
        "id": "m_h-hysLLHxn",
        "outputId": "f1abeec9-af1f-4ff3-a6bd-c1e64c0d4ce3"
      },
      "execution_count": 73,
      "outputs": [
        {
          "output_type": "error",
          "ename": "RuntimeError",
          "evalue": "ignored",
          "traceback": [
            "\u001b[0;31m---------------------------------------------------------------------------\u001b[0m",
            "\u001b[0;31mRuntimeError\u001b[0m                              Traceback (most recent call last)",
            "\u001b[0;32m<ipython-input-73-80cfa0d2ce9f>\u001b[0m in \u001b[0;36m<cell line: 22>\u001b[0;34m()\u001b[0m\n\u001b[1;32m     20\u001b[0m \u001b[0;34m\u001b[0m\u001b[0m\n\u001b[1;32m     21\u001b[0m \u001b[0;34m\u001b[0m\u001b[0m\n\u001b[0;32m---> 22\u001b[0;31m \u001b[0;32mclass\u001b[0m \u001b[0mAlunno\u001b[0m\u001b[0;34m(\u001b[0m\u001b[0mListaAlunni\u001b[0m\u001b[0;34m)\u001b[0m\u001b[0;34m:\u001b[0m\u001b[0;34m\u001b[0m\u001b[0;34m\u001b[0m\u001b[0m\n\u001b[0m\u001b[1;32m     23\u001b[0m \u001b[0;34m\u001b[0m\u001b[0m\n\u001b[1;32m     24\u001b[0m       \u001b[0mnome\u001b[0m \u001b[0;34m=\u001b[0m \u001b[0msuper\u001b[0m\u001b[0;34m(\u001b[0m\u001b[0;34m)\u001b[0m\u001b[0;34m.\u001b[0m\u001b[0malunni\u001b[0m\u001b[0;34m[\u001b[0m\u001b[0;36m0\u001b[0m\u001b[0;34m]\u001b[0m\u001b[0;34m\u001b[0m\u001b[0;34m\u001b[0m\u001b[0m\n",
            "\u001b[0;32m<ipython-input-73-80cfa0d2ce9f>\u001b[0m in \u001b[0;36mAlunno\u001b[0;34m()\u001b[0m\n\u001b[1;32m     22\u001b[0m \u001b[0;32mclass\u001b[0m \u001b[0mAlunno\u001b[0m\u001b[0;34m(\u001b[0m\u001b[0mListaAlunni\u001b[0m\u001b[0;34m)\u001b[0m\u001b[0;34m:\u001b[0m\u001b[0;34m\u001b[0m\u001b[0;34m\u001b[0m\u001b[0m\n\u001b[1;32m     23\u001b[0m \u001b[0;34m\u001b[0m\u001b[0m\n\u001b[0;32m---> 24\u001b[0;31m       \u001b[0mnome\u001b[0m \u001b[0;34m=\u001b[0m \u001b[0msuper\u001b[0m\u001b[0;34m(\u001b[0m\u001b[0;34m)\u001b[0m\u001b[0;34m.\u001b[0m\u001b[0malunni\u001b[0m\u001b[0;34m[\u001b[0m\u001b[0;36m0\u001b[0m\u001b[0;34m]\u001b[0m\u001b[0;34m\u001b[0m\u001b[0;34m\u001b[0m\u001b[0m\n\u001b[0m\u001b[1;32m     25\u001b[0m \u001b[0;34m\u001b[0m\u001b[0m\n\u001b[1;32m     26\u001b[0m       \u001b[0mvoto\u001b[0m \u001b[0;34m=\u001b[0m \u001b[0msuper\u001b[0m\u001b[0;34m(\u001b[0m\u001b[0;34m)\u001b[0m\u001b[0;34m.\u001b[0m\u001b[0mvoti\u001b[0m\u001b[0;34m[\u001b[0m\u001b[0;36m0\u001b[0m\u001b[0;34m]\u001b[0m\u001b[0;34m\u001b[0m\u001b[0;34m\u001b[0m\u001b[0m\n",
            "\u001b[0;31mRuntimeError\u001b[0m: super(): no arguments"
          ]
        }
      ]
    }
  ]
}